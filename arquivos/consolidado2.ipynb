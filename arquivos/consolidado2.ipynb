{
 "cells": [
  {
   "cell_type": "code",
   "execution_count": 1,
   "metadata": {},
   "outputs": [
    {
     "name": "stdout",
     "output_type": "stream",
     "text": [
      "Requirement already satisfied: PyPDF2 in c:\\users\\user\\appdata\\local\\programs\\python\\python312\\lib\\site-packages (3.0.1)\n",
      "Note: you may need to restart the kernel to use updated packages.\n"
     ]
    }
   ],
   "source": [
    "pip install PyPDF2"
   ]
  },
  {
   "cell_type": "code",
   "execution_count": 2,
   "metadata": {},
   "outputs": [
    {
     "name": "stdout",
     "output_type": "stream",
     "text": [
      "Collecting tika\n",
      "  Downloading tika-2.6.0.tar.gz (27 kB)\n",
      "  Installing build dependencies: started\n",
      "  Installing build dependencies: finished with status 'done'\n",
      "  Getting requirements to build wheel: started\n",
      "  Getting requirements to build wheel: finished with status 'done'\n",
      "  Preparing metadata (pyproject.toml): started\n",
      "  Preparing metadata (pyproject.toml): finished with status 'done'\n",
      "Requirement already satisfied: setuptools in c:\\users\\user\\appdata\\local\\programs\\python\\python312\\lib\\site-packages (from tika) (70.2.0)\n",
      "Collecting requests (from tika)\n",
      "  Using cached requests-2.32.3-py3-none-any.whl.metadata (4.6 kB)\n",
      "Requirement already satisfied: charset-normalizer<4,>=2 in c:\\users\\user\\appdata\\local\\programs\\python\\python312\\lib\\site-packages (from requests->tika) (3.3.2)\n",
      "Collecting idna<4,>=2.5 (from requests->tika)\n",
      "  Using cached idna-3.7-py3-none-any.whl.metadata (9.9 kB)\n",
      "Collecting urllib3<3,>=1.21.1 (from requests->tika)\n",
      "  Using cached urllib3-2.2.2-py3-none-any.whl.metadata (6.4 kB)\n",
      "Collecting certifi>=2017.4.17 (from requests->tika)\n",
      "  Using cached certifi-2024.7.4-py3-none-any.whl.metadata (2.2 kB)\n",
      "Using cached requests-2.32.3-py3-none-any.whl (64 kB)\n",
      "Using cached certifi-2024.7.4-py3-none-any.whl (162 kB)\n",
      "Using cached idna-3.7-py3-none-any.whl (66 kB)\n",
      "Using cached urllib3-2.2.2-py3-none-any.whl (121 kB)\n",
      "Building wheels for collected packages: tika\n",
      "  Building wheel for tika (pyproject.toml): started\n",
      "  Building wheel for tika (pyproject.toml): finished with status 'done'\n",
      "  Created wheel for tika: filename=tika-2.6.0-py3-none-any.whl size=32687 sha256=32192f722243e60e896b6192fd25d9b808963bf4f9942044c5aedd421fd96c4c\n",
      "  Stored in directory: c:\\users\\user\\appdata\\local\\pip\\cache\\wheels\\ad\\75\\cc\\cb91a96aab7a28cac9a04967c6034162d50dd441c1709aeea7\n",
      "Successfully built tika\n",
      "Installing collected packages: urllib3, idna, certifi, requests, tika\n",
      "Successfully installed certifi-2024.7.4 idna-3.7 requests-2.32.3 tika-2.6.0 urllib3-2.2.2\n",
      "Note: you may need to restart the kernel to use updated packages.\n"
     ]
    }
   ],
   "source": [
    "pip install tika"
   ]
  },
  {
   "cell_type": "code",
   "execution_count": 2,
   "metadata": {},
   "outputs": [
    {
     "name": "stdout",
     "output_type": "stream",
     "text": [
      "Requirement already satisfied: pdfplumber in c:\\users\\user\\appdata\\local\\programs\\python\\python312\\lib\\site-packages (0.11.2)\n",
      "Requirement already satisfied: pdfminer.six==20231228 in c:\\users\\user\\appdata\\local\\programs\\python\\python312\\lib\\site-packages (from pdfplumber) (20231228)\n",
      "Requirement already satisfied: Pillow>=9.1 in c:\\users\\user\\appdata\\local\\programs\\python\\python312\\lib\\site-packages (from pdfplumber) (10.3.0)\n",
      "Requirement already satisfied: pypdfium2>=4.18.0 in c:\\users\\user\\appdata\\local\\programs\\python\\python312\\lib\\site-packages (from pdfplumber) (4.30.0)\n",
      "Requirement already satisfied: charset-normalizer>=2.0.0 in c:\\users\\user\\appdata\\local\\programs\\python\\python312\\lib\\site-packages (from pdfminer.six==20231228->pdfplumber) (3.3.2)\n",
      "Requirement already satisfied: cryptography>=36.0.0 in c:\\users\\user\\appdata\\local\\programs\\python\\python312\\lib\\site-packages (from pdfminer.six==20231228->pdfplumber) (42.0.8)\n",
      "Requirement already satisfied: cffi>=1.12 in c:\\users\\user\\appdata\\local\\programs\\python\\python312\\lib\\site-packages (from cryptography>=36.0.0->pdfminer.six==20231228->pdfplumber) (1.16.0)\n",
      "Requirement already satisfied: pycparser in c:\\users\\user\\appdata\\local\\programs\\python\\python312\\lib\\site-packages (from cffi>=1.12->cryptography>=36.0.0->pdfminer.six==20231228->pdfplumber) (2.22)\n",
      "Note: you may need to restart the kernel to use updated packages.\n"
     ]
    }
   ],
   "source": [
    "pip install pdfplumber"
   ]
  },
  {
   "cell_type": "code",
   "execution_count": 3,
   "metadata": {},
   "outputs": [
    {
     "name": "stdout",
     "output_type": "stream",
     "text": [
      "Requirement already satisfied: pandas in c:\\users\\user\\appdata\\local\\programs\\python\\python312\\lib\\site-packages (2.2.2)\n",
      "Requirement already satisfied: numpy>=1.26.0 in c:\\users\\user\\appdata\\local\\programs\\python\\python312\\lib\\site-packages (from pandas) (1.26.4)\n",
      "Requirement already satisfied: python-dateutil>=2.8.2 in c:\\users\\user\\appdata\\local\\programs\\python\\python312\\lib\\site-packages (from pandas) (2.9.0.post0)\n",
      "Requirement already satisfied: pytz>=2020.1 in c:\\users\\user\\appdata\\local\\programs\\python\\python312\\lib\\site-packages (from pandas) (2024.1)\n",
      "Requirement already satisfied: tzdata>=2022.7 in c:\\users\\user\\appdata\\local\\programs\\python\\python312\\lib\\site-packages (from pandas) (2024.1)\n",
      "Requirement already satisfied: six>=1.5 in c:\\users\\user\\appdata\\local\\programs\\python\\python312\\lib\\site-packages (from python-dateutil>=2.8.2->pandas) (1.16.0)\n",
      "Note: you may need to restart the kernel to use updated packages.\n"
     ]
    }
   ],
   "source": [
    "pip install pandas"
   ]
  },
  {
   "cell_type": "code",
   "execution_count": 13,
   "metadata": {},
   "outputs": [],
   "source": [
    "from tika import parser\n",
    "import openpyxl\n",
    "import re\n",
    "\n",
    "# Caminho para o arquivo PDF\n",
    "pdf_path = r'C:\\github\\modulo_python_digital\\arquivos\\fund.pdf'\n",
    "# Caminho para o arquivo Excel template\n",
    "excel_template_path = r'C:\\github\\modulo_python_digital\\arquivos\\fund_template.xlsx'\n",
    "# Caminho para salvar o arquivo Excel atualizado\n",
    "excel_output_path = r'C:\\github\\modulo_python_digital\\arquivos\\fund_atualizado.xlsx'\n",
    "\n",
    "# Extrai o conteúdo do PDF\n",
    "raw_content = parser.from_file(pdf_path)\n",
    "text_content = raw_content['content']\n",
    "\n",
    "# Divida o texto em linhas\n",
    "lines = text_content.split('\\n')\n",
    "\n",
    "# Identifique as linhas que contêm os dados que precisamos\n",
    "data_lines = []\n",
    "start_collecting = False\n",
    "for line in lines:\n",
    "    if line.startswith('D.E'):\n",
    "        start_collecting = True\n",
    "    if start_collecting:\n",
    "        data_lines.append(line)\n",
    "\n",
    "# Separe as linhas de cabeçalho e as linhas de dados\n",
    "header_line = data_lines[0]\n",
    "data_lines = data_lines[1:]\n",
    "\n",
    "# Separe os cabeçalhos\n",
    "headers = re.split(r'\\s{2,}', header_line)\n",
    "\n",
    "# Corrija o cabeçalho e adicione os cabeçalhos necessários\n",
    "headers = ['D.E', 'COD', 'Escola', 'Alunos'] + headers[4:]\n",
    "\n",
    "# Processa as linhas de dados\n",
    "data = []\n",
    "for line in data_lines:\n",
    "    if line.strip():  # Ignorar linhas em branco\n",
    "        parts = re.split(r'\\s{2,}', line.strip())\n",
    "        if len(parts) >= 17:  # Verifica se a linha tem o número esperado de elementos\n",
    "            d_e = parts[0]\n",
    "            cod = parts[1]\n",
    "            alunos = parts[2]\n",
    "            escola = ' '.join(parts[3:-13])\n",
    "            valores = parts[-13:]\n",
    "            data.append([d_e, cod, escola, alunos] + valores)\n",
    "\n",
    "# Carregue o arquivo Excel template\n",
    "wb = openpyxl.load_workbook(excel_template_path)\n",
    "ws = wb.active\n",
    "\n",
    "# Preencha os dados no Excel\n",
    "start_row = 2  # Começa a preencher a partir da segunda linha (ajuste conforme necessário)\n",
    "for row_idx, row_data in enumerate(data, start=start_row):\n",
    "    for col_idx, cell_value in enumerate(row_data, start=1):\n",
    "        ws.cell(row=row_idx, column=col_idx, value=cell_value)\n",
    "\n",
    "# Salve o arquivo Excel atualizado\n",
    "wb.save(excel_output_path)\n"
   ]
  }
 ],
 "metadata": {
  "kernelspec": {
   "display_name": "Python 3",
   "language": "python",
   "name": "python3"
  },
  "language_info": {
   "codemirror_mode": {
    "name": "ipython",
    "version": 3
   },
   "file_extension": ".py",
   "mimetype": "text/x-python",
   "name": "python",
   "nbconvert_exporter": "python",
   "pygments_lexer": "ipython3",
   "version": "3.12.3"
  }
 },
 "nbformat": 4,
 "nbformat_minor": 2
}
